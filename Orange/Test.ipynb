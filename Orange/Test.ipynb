{
 "cells": [
  {
   "attachments": {},
   "cell_type": "markdown",
   "metadata": {},
   "source": [
    "# Test d'Orange - Data Mining"
   ]
  },
  {
   "cell_type": "code",
   "execution_count": 3,
   "metadata": {},
   "outputs": [],
   "source": [
    "import Orange"
   ]
  },
  {
   "cell_type": "code",
   "execution_count": 4,
   "metadata": {},
   "outputs": [
    {
     "data": {
      "text/plain": [
       "array([1., 1., 1., 1., 1., 1., 1., 1., 1., 1., 1., 1., 1., 1., 1., 1., 1.,\n",
       "       1., 1., 1., 1., 1., 1., 1., 1., 1., 1., 1., 1., 1., 1., 1., 1., 1.,\n",
       "       1., 1., 1., 1., 1., 1., 1., 1., 1., 1., 1., 1., 1., 1., 1., 1., 0.,\n",
       "       0., 0., 0., 0., 0., 0., 0., 0., 0., 0., 0., 0., 0., 0., 0., 0., 0.,\n",
       "       0., 0., 0., 0., 0., 0., 0., 0., 0., 0., 0., 0., 0., 0., 0., 0., 0.,\n",
       "       0., 0., 0., 0., 0., 0., 0., 0., 0., 0., 0., 0., 0., 0., 0., 2., 0.,\n",
       "       2., 2., 2., 2., 0., 2., 2., 2., 2., 2., 2., 0., 0., 2., 2., 2., 2.,\n",
       "       0., 2., 0., 2., 0., 2., 2., 0., 0., 2., 2., 2., 2., 2., 0., 2., 2.,\n",
       "       2., 2., 0., 2., 2., 2., 0., 2., 2., 2., 0., 2., 2., 0.])"
      ]
     },
     "execution_count": 4,
     "metadata": {},
     "output_type": "execute_result"
    }
   ],
   "source": [
    "from Orange import data, distance\n",
    "from Orange.clustering import hierarchical\n",
    "\n",
    "data = data.Table('iris')\n",
    "\n",
    "dist_matrix = distance.Euclidean(data)\n",
    "\n",
    "hierar = hierarchical.HierarchicalClustering(n_clusters=3)\n",
    "\n",
    "hierar.linkage = hierarchical.AVERAGE\n",
    "\n",
    "hierar.fit(dist_matrix)\n",
    "\n",
    "hierar.labels"
   ]
  },
  {
   "cell_type": "code",
   "execution_count": 12,
   "metadata": {},
   "outputs": [
    {
     "name": "stdout",
     "output_type": "stream",
     "text": [
      "[[1.2, red] {U13},\n",
      " [1.4, blue] {U14},\n",
      " [1.5, blue] {U15},\n",
      " [1.1, blue] {U16},\n",
      " [1.2, red] {U17}]\n"
     ]
    }
   ],
   "source": [
    "from Orange.data import Domain, ContinuousVariable, DiscreteVariable, StringVariable\n",
    "from Orange.data import Table, Domain\n",
    "\n",
    "domain = Domain([ContinuousVariable(\"col1\"),\n",
    "                     DiscreteVariable(\"col2\", values=[\"red\", \"blue\"])],\n",
    "                     metas=[StringVariable(\"col3\")])\n",
    "\n",
    "import numpy as np\n",
    "\n",
    "column1 = np.array([1.2, 1.4, 1.5, 1.1, 1.2])\n",
    "column2 = np.array([0, 1, 1, 1, 0])\n",
    "column3 = np.array([\"U13\", \"U14\", \"U15\", \"U16\", \"U17\"], dtype=object)\n",
    "\n",
    "X = np.column_stack((column1, column2))\n",
    "M = column3.reshape(-1, 1)\n",
    "\n",
    "table = Table.from_numpy(domain, X=X, metas=M)\n",
    "print(table)"
   ]
  }
 ],
 "metadata": {
  "kernelspec": {
   "display_name": "base",
   "language": "python",
   "name": "python3"
  },
  "language_info": {
   "codemirror_mode": {
    "name": "ipython",
    "version": 3
   },
   "file_extension": ".py",
   "mimetype": "text/x-python",
   "name": "python",
   "nbconvert_exporter": "python",
   "pygments_lexer": "ipython3",
   "version": "3.9.12"
  },
  "orig_nbformat": 4,
  "vscode": {
   "interpreter": {
    "hash": "bc5a6fcd42aefd11aead72b01bc4e6842c205ebb69c94514e1be95f4dbf05863"
   }
  }
 },
 "nbformat": 4,
 "nbformat_minor": 2
}
