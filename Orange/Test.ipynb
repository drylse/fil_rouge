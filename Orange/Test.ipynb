{
 "cells": [
  {
   "attachments": {},
   "cell_type": "markdown",
   "metadata": {},
   "source": [
    "# Test d'Orange - Data Mining"
   ]
  },
  {
   "cell_type": "code",
   "execution_count": 3,
   "metadata": {},
   "outputs": [],
   "source": [
    "import Orange"
   ]
  },
  {
   "cell_type": "code",
   "execution_count": 4,
   "metadata": {},
   "outputs": [
    {
     "data": {
      "text/plain": [
       "array([1., 1., 1., 1., 1., 1., 1., 1., 1., 1., 1., 1., 1., 1., 1., 1., 1.,\n",
       "       1., 1., 1., 1., 1., 1., 1., 1., 1., 1., 1., 1., 1., 1., 1., 1., 1.,\n",
       "       1., 1., 1., 1., 1., 1., 1., 1., 1., 1., 1., 1., 1., 1., 1., 1., 0.,\n",
       "       0., 0., 0., 0., 0., 0., 0., 0., 0., 0., 0., 0., 0., 0., 0., 0., 0.,\n",
       "       0., 0., 0., 0., 0., 0., 0., 0., 0., 0., 0., 0., 0., 0., 0., 0., 0.,\n",
       "       0., 0., 0., 0., 0., 0., 0., 0., 0., 0., 0., 0., 0., 0., 0., 2., 0.,\n",
       "       2., 2., 2., 2., 0., 2., 2., 2., 2., 2., 2., 0., 0., 2., 2., 2., 2.,\n",
       "       0., 2., 0., 2., 0., 2., 2., 0., 0., 2., 2., 2., 2., 2., 0., 2., 2.,\n",
       "       2., 2., 0., 2., 2., 2., 0., 2., 2., 2., 0., 2., 2., 0.])"
      ]
     },
     "execution_count": 4,
     "metadata": {},
     "output_type": "execute_result"
    }
   ],
   "source": [
    "from Orange import data, distance\n",
    "from Orange.clustering import hierarchical\n",
    "\n",
    "data = data.Table('iris')\n",
    "\n",
    "dist_matrix = distance.Euclidean(data)\n",
    "\n",
    "hierar = hierarchical.HierarchicalClustering(n_clusters=3)\n",
    "\n",
    "hierar.linkage = hierarchical.AVERAGE\n",
    "\n",
    "hierar.fit(dist_matrix)\n",
    "\n",
    "hierar.labels"
   ]
  },
  {
   "cell_type": "code",
   "execution_count": 12,
   "metadata": {},
   "outputs": [
    {
     "name": "stdout",
     "output_type": "stream",
     "text": [
      "[[1.2, red] {U13},\n",
      " [1.4, blue] {U14},\n",
      " [1.5, blue] {U15},\n",
      " [1.1, blue] {U16},\n",
      " [1.2, red] {U17}]\n"
     ]
    }
   ],
   "source": [
    "from Orange.data import Domain, ContinuousVariable, DiscreteVariable, StringVariable\n",
    "from Orange.data import Table, Domain\n",
    "\n",
    "domain = Domain([ContinuousVariable(\"col1\"),\n",
    "                     DiscreteVariable(\"col2\", values=[\"red\", \"blue\"])],\n",
    "                     metas=[StringVariable(\"col3\")])\n",
    "\n",
    "import numpy as np\n",
    "\n",
    "column1 = np.array([1.2, 1.4, 1.5, 1.1, 1.2])\n",
    "column2 = np.array([0, 1, 1, 1, 0])\n",
    "column3 = np.array([\"U13\", \"U14\", \"U15\", \"U16\", \"U17\"], dtype=object)\n",
    "\n",
    "X = np.column_stack((column1, column2))\n",
    "M = column3.reshape(-1, 1)\n",
    "\n",
    "table = Table.from_numpy(domain, X=X, metas=M)\n",
    "print(table)"
   ]
  },
  {
   "cell_type": "code",
   "execution_count": 15,
   "metadata": {},
   "outputs": [
    {
     "name": "stdout",
     "output_type": "stream",
     "text": [
      "[[5.1, 3.5, 1.4, 0.2 | Iris-setosa],\n",
      " [4.9, 3.0, 1.4, 0.2 | Iris-setosa],\n",
      " [4.7, 3.2, 1.3, 0.2 | Iris-setosa],\n",
      " [4.6, 3.1, 1.5, 0.2 | Iris-setosa],\n",
      " [5.0, 3.6, 1.4, 0.2 | Iris-setosa],\n",
      " [5.4, 3.9, 1.7, 0.4 | Iris-setosa],\n",
      " [4.6, 3.4, 1.4, 0.3 | Iris-setosa],\n",
      " [5.0, 3.4, 1.5, 0.2 | Iris-setosa],\n",
      " [4.4, 2.9, 1.4, 0.2 | Iris-setosa],\n",
      " [4.9, 3.1, 1.5, 0.1 | Iris-setosa],\n",
      " [5.4, 3.7, 1.5, 0.2 | Iris-setosa],\n",
      " [4.8, 3.4, 1.6, 0.2 | Iris-setosa],\n",
      " [4.8, 3.0, 1.4, 0.1 | Iris-setosa],\n",
      " [4.3, 3.0, 1.1, 0.1 | Iris-setosa],\n",
      " [5.8, 4.0, 1.2, 0.2 | Iris-setosa],\n",
      " [5.7, 4.4, 1.5, 0.4 | Iris-setosa],\n",
      " [5.4, 3.9, 1.3, 0.4 | Iris-setosa],\n",
      " [5.1, 3.5, 1.4, 0.3 | Iris-setosa],\n",
      " [5.7, 3.8, 1.7, 0.3 | Iris-setosa],\n",
      " [5.1, 3.8, 1.5, 0.3 | Iris-setosa],\n",
      " [5.4, 3.4, 1.7, 0.2 | Iris-setosa],\n",
      " [5.1, 3.7, 1.5, 0.4 | Iris-setosa],\n",
      " [4.6, 3.6, 1.0, 0.2 | Iris-setosa],\n",
      " [5.1, 3.3, 1.7, 0.5 | Iris-setosa],\n",
      " [4.8, 3.4, 1.9, 0.2 | Iris-setosa],\n",
      " [5.0, 3.0, 1.6, 0.2 | Iris-setosa],\n",
      " [5.0, 3.4, 1.6, 0.4 | Iris-setosa],\n",
      " [5.2, 3.5, 1.5, 0.2 | Iris-setosa],\n",
      " [5.2, 3.4, 1.4, 0.2 | Iris-setosa],\n",
      " [4.7, 3.2, 1.6, 0.2 | Iris-setosa],\n",
      " [4.8, 3.1, 1.6, 0.2 | Iris-setosa],\n",
      " [5.4, 3.4, 1.5, 0.4 | Iris-setosa],\n",
      " [5.2, 4.1, 1.5, 0.1 | Iris-setosa],\n",
      " [5.5, 4.2, 1.4, 0.2 | Iris-setosa],\n",
      " [4.9, 3.1, 1.5, 0.1 | Iris-setosa],\n",
      " [5.0, 3.2, 1.2, 0.2 | Iris-setosa],\n",
      " [5.5, 3.5, 1.3, 0.2 | Iris-setosa],\n",
      " [4.9, 3.1, 1.5, 0.1 | Iris-setosa],\n",
      " [4.4, 3.0, 1.3, 0.2 | Iris-setosa],\n",
      " [5.1, 3.4, 1.5, 0.2 | Iris-setosa],\n",
      " [5.0, 3.5, 1.3, 0.3 | Iris-setosa],\n",
      " [4.5, 2.3, 1.3, 0.3 | Iris-setosa],\n",
      " [4.4, 3.2, 1.3, 0.2 | Iris-setosa],\n",
      " [5.0, 3.5, 1.6, 0.6 | Iris-setosa],\n",
      " [5.1, 3.8, 1.9, 0.4 | Iris-setosa],\n",
      " [4.8, 3.0, 1.4, 0.3 | Iris-setosa],\n",
      " [5.1, 3.8, 1.6, 0.2 | Iris-setosa],\n",
      " [4.6, 3.2, 1.4, 0.2 | Iris-setosa],\n",
      " [5.3, 3.7, 1.5, 0.2 | Iris-setosa],\n",
      " [5.0, 3.3, 1.4, 0.2 | Iris-setosa],\n",
      " [7.0, 3.2, 4.7, 1.4 | Iris-versicolor],\n",
      " [6.4, 3.2, 4.5, 1.5 | Iris-versicolor],\n",
      " [6.9, 3.1, 4.9, 1.5 | Iris-versicolor],\n",
      " [5.5, 2.3, 4.0, 1.3 | Iris-versicolor],\n",
      " [6.5, 2.8, 4.6, 1.5 | Iris-versicolor],\n",
      " [5.7, 2.8, 4.5, 1.3 | Iris-versicolor],\n",
      " [6.3, 3.3, 4.7, 1.6 | Iris-versicolor],\n",
      " [4.9, 2.4, 3.3, 1.0 | Iris-versicolor],\n",
      " [6.6, 2.9, 4.6, 1.3 | Iris-versicolor],\n",
      " [5.2, 2.7, 3.9, 1.4 | Iris-versicolor],\n",
      " [5.0, 2.0, 3.5, 1.0 | Iris-versicolor],\n",
      " [5.9, 3.0, 4.2, 1.5 | Iris-versicolor],\n",
      " [6.0, 2.2, 4.0, 1.0 | Iris-versicolor],\n",
      " [6.1, 2.9, 4.7, 1.4 | Iris-versicolor],\n",
      " [5.6, 2.9, 3.6, 1.3 | Iris-versicolor],\n",
      " [6.7, 3.1, 4.4, 1.4 | Iris-versicolor],\n",
      " [5.6, 3.0, 4.5, 1.5 | Iris-versicolor],\n",
      " [5.8, 2.7, 4.1, 1.0 | Iris-versicolor],\n",
      " [6.2, 2.2, 4.5, 1.5 | Iris-versicolor],\n",
      " [5.6, 2.5, 3.9, 1.1 | Iris-versicolor],\n",
      " [5.9, 3.2, 4.8, 1.8 | Iris-versicolor],\n",
      " [6.1, 2.8, 4.0, 1.3 | Iris-versicolor],\n",
      " [6.3, 2.5, 4.9, 1.5 | Iris-versicolor],\n",
      " [6.1, 2.8, 4.7, 1.2 | Iris-versicolor],\n",
      " [6.4, 2.9, 4.3, 1.3 | Iris-versicolor],\n",
      " [6.6, 3.0, 4.4, 1.4 | Iris-versicolor],\n",
      " [6.8, 2.8, 4.8, 1.4 | Iris-versicolor],\n",
      " [6.7, 3.0, 5.0, 1.7 | Iris-versicolor],\n",
      " [6.0, 2.9, 4.5, 1.5 | Iris-versicolor],\n",
      " [5.7, 2.6, 3.5, 1.0 | Iris-versicolor],\n",
      " [5.5, 2.4, 3.8, 1.1 | Iris-versicolor],\n",
      " [5.5, 2.4, 3.7, 1.0 | Iris-versicolor],\n",
      " [5.8, 2.7, 3.9, 1.2 | Iris-versicolor],\n",
      " [6.0, 2.7, 5.1, 1.6 | Iris-versicolor],\n",
      " [5.4, 3.0, 4.5, 1.5 | Iris-versicolor],\n",
      " [6.0, 3.4, 4.5, 1.6 | Iris-versicolor],\n",
      " [6.7, 3.1, 4.7, 1.5 | Iris-versicolor],\n",
      " [6.3, 2.3, 4.4, 1.3 | Iris-versicolor],\n",
      " [5.6, 3.0, 4.1, 1.3 | Iris-versicolor],\n",
      " [5.5, 2.5, 4.0, 1.3 | Iris-versicolor],\n",
      " [5.5, 2.6, 4.4, 1.2 | Iris-versicolor],\n",
      " [6.1, 3.0, 4.6, 1.4 | Iris-versicolor],\n",
      " [5.8, 2.6, 4.0, 1.2 | Iris-versicolor],\n",
      " [5.0, 2.3, 3.3, 1.0 | Iris-versicolor],\n",
      " [5.6, 2.7, 4.2, 1.3 | Iris-versicolor],\n",
      " [5.7, 3.0, 4.2, 1.2 | Iris-versicolor],\n",
      " [5.7, 2.9, 4.2, 1.3 | Iris-versicolor],\n",
      " [6.2, 2.9, 4.3, 1.3 | Iris-versicolor],\n",
      " [5.1, 2.5, 3.0, 1.1 | Iris-versicolor],\n",
      " [5.7, 2.8, 4.1, 1.3 | Iris-versicolor],\n",
      " [6.3, 3.3, 6.0, 2.5 | Iris-virginica],\n",
      " [5.8, 2.7, 5.1, 1.9 | Iris-virginica],\n",
      " [7.1, 3.0, 5.9, 2.1 | Iris-virginica],\n",
      " [6.3, 2.9, 5.6, 1.8 | Iris-virginica],\n",
      " [6.5, 3.0, 5.8, 2.2 | Iris-virginica],\n",
      " [7.6, 3.0, 6.6, 2.1 | Iris-virginica],\n",
      " [4.9, 2.5, 4.5, 1.7 | Iris-virginica],\n",
      " [7.3, 2.9, 6.3, 1.8 | Iris-virginica],\n",
      " [6.7, 2.5, 5.8, 1.8 | Iris-virginica],\n",
      " [7.2, 3.6, 6.1, 2.5 | Iris-virginica],\n",
      " [6.5, 3.2, 5.1, 2.0 | Iris-virginica],\n",
      " [6.4, 2.7, 5.3, 1.9 | Iris-virginica],\n",
      " [6.8, 3.0, 5.5, 2.1 | Iris-virginica],\n",
      " [5.7, 2.5, 5.0, 2.0 | Iris-virginica],\n",
      " [5.8, 2.8, 5.1, 2.4 | Iris-virginica],\n",
      " [6.4, 3.2, 5.3, 2.3 | Iris-virginica],\n",
      " [6.5, 3.0, 5.5, 1.8 | Iris-virginica],\n",
      " [7.7, 3.8, 6.7, 2.2 | Iris-virginica],\n",
      " [7.7, 2.6, 6.9, 2.3 | Iris-virginica],\n",
      " [6.0, 2.2, 5.0, 1.5 | Iris-virginica],\n",
      " [6.9, 3.2, 5.7, 2.3 | Iris-virginica],\n",
      " [5.6, 2.8, 4.9, 2.0 | Iris-virginica],\n",
      " [7.7, 2.8, 6.7, 2.0 | Iris-virginica],\n",
      " [6.3, 2.7, 4.9, 1.8 | Iris-virginica],\n",
      " [6.7, 3.3, 5.7, 2.1 | Iris-virginica],\n",
      " [7.2, 3.2, 6.0, 1.8 | Iris-virginica],\n",
      " [6.2, 2.8, 4.8, 1.8 | Iris-virginica],\n",
      " [6.1, 3.0, 4.9, 1.8 | Iris-virginica],\n",
      " [6.4, 2.8, 5.6, 2.1 | Iris-virginica],\n",
      " [7.2, 3.0, 5.8, 1.6 | Iris-virginica],\n",
      " [7.4, 2.8, 6.1, 1.9 | Iris-virginica],\n",
      " [7.9, 3.8, 6.4, 2.0 | Iris-virginica],\n",
      " [6.4, 2.8, 5.6, 2.2 | Iris-virginica],\n",
      " [6.3, 2.8, 5.1, 1.5 | Iris-virginica],\n",
      " [6.1, 2.6, 5.6, 1.4 | Iris-virginica],\n",
      " [7.7, 3.0, 6.1, 2.3 | Iris-virginica],\n",
      " [6.3, 3.4, 5.6, 2.4 | Iris-virginica],\n",
      " [6.4, 3.1, 5.5, 1.8 | Iris-virginica],\n",
      " [6.0, 3.0, 4.8, 1.8 | Iris-virginica],\n",
      " [6.9, 3.1, 5.4, 2.1 | Iris-virginica],\n",
      " [6.7, 3.1, 5.6, 2.4 | Iris-virginica],\n",
      " [6.9, 3.1, 5.1, 2.3 | Iris-virginica],\n",
      " [5.8, 2.7, 5.1, 1.9 | Iris-virginica],\n",
      " [6.8, 3.2, 5.9, 2.3 | Iris-virginica],\n",
      " [6.7, 3.3, 5.7, 2.5 | Iris-virginica],\n",
      " [6.7, 3.0, 5.2, 2.3 | Iris-virginica],\n",
      " [6.3, 2.5, 5.0, 1.9 | Iris-virginica],\n",
      " [6.5, 3.0, 5.2, 2.0 | Iris-virginica],\n",
      " [6.2, 3.4, 5.4, 2.3 | Iris-virginica],\n",
      " [5.9, 3.0, 5.1, 1.8 | Iris-virginica]]\n"
     ]
    },
    {
     "data": {
      "text/plain": [
       "array([1., 1., 1., 1., 1., 1., 1., 1., 1., 1., 1., 1., 1., 1., 1., 1., 1.,\n",
       "       1., 1., 1., 1., 1., 1., 1., 1., 1., 1., 1., 1., 1., 1., 1., 1., 1.,\n",
       "       1., 1., 1., 1., 1., 1., 1., 1., 1., 1., 1., 1., 1., 1., 1., 1., 0.,\n",
       "       0., 0., 0., 0., 0., 0., 0., 0., 0., 0., 0., 0., 0., 0., 0., 0., 0.,\n",
       "       0., 0., 0., 0., 0., 0., 0., 0., 0., 0., 0., 0., 0., 0., 0., 0., 0.,\n",
       "       0., 0., 0., 0., 0., 0., 0., 0., 0., 0., 0., 0., 0., 0., 0., 2., 0.,\n",
       "       2., 2., 2., 2., 0., 2., 2., 2., 2., 2., 2., 0., 0., 2., 2., 2., 2.,\n",
       "       0., 2., 0., 2., 0., 2., 2., 0., 0., 2., 2., 2., 2., 2., 0., 2., 2.,\n",
       "       2., 2., 0., 2., 2., 2., 0., 2., 2., 2., 0., 2., 2., 0.])"
      ]
     },
     "execution_count": 15,
     "metadata": {},
     "output_type": "execute_result"
    }
   ],
   "source": [
    "from Orange import data, distance\n",
    "from Orange.clustering import hierarchical\n",
    "\n",
    "data = data.Table('iris')\n",
    "dist_matrix = distance.Euclidean(data)\n",
    "print(data)\n",
    "hierar = hierarchical.HierarchicalClustering(n_clusters=3)\n",
    "hierar.linkage = hierarchical.AVERAGE\n",
    "hierar.fit(dist_matrix)\n",
    "hierar.labels"
   ]
  },
  {
   "attachments": {},
   "cell_type": "markdown",
   "metadata": {},
   "source": [
    "https://hal.science/file/index/docid/467760/filename/PASCAL_Un_algorithme_d_extraction_des_motifs_frequents_Bastide_et_al._TSI_2002.pdf"
   ]
  },
  {
   "attachments": {},
   "cell_type": "markdown",
   "metadata": {},
   "source": [
    "# FP-growth\n",
    "\n",
    "https://orange3-associate.readthedocs.io/en/latest/scripting.html"
   ]
  },
  {
   "cell_type": "code",
   "execution_count": 16,
   "metadata": {},
   "outputs": [],
   "source": [
    "T = [[1,    3, 4   ],\n",
    "    [   2, 3,    5],\n",
    "    [1, 2, 3,    5],\n",
    "    [   2,       5]]"
   ]
  },
  {
   "attachments": {},
   "cell_type": "markdown",
   "metadata": {},
   "source": [
    "enumerate all frequent itemsets with support greater than two transactions"
   ]
  },
  {
   "cell_type": "code",
   "execution_count": 27,
   "metadata": {},
   "outputs": [
    {
     "name": "stdout",
     "output_type": "stream",
     "text": [
      "<generator object frequent_itemsets at 0x7fb639d53ac0>\n"
     ]
    }
   ],
   "source": [
    "from orangecontrib.associate.fpgrowth import *  # doctest: +SKIP\n",
    "itemsets = frequent_itemsets(T, 2)\n",
    "print(itemsets)"
   ]
  },
  {
   "cell_type": "code",
   "execution_count": 28,
   "metadata": {},
   "outputs": [
    {
     "data": {
      "text/plain": [
       "[(frozenset({1}), 2),\n",
       " (frozenset({2}), 3),\n",
       " (frozenset({3}), 3),\n",
       " (frozenset({1, 3}), 2),\n",
       " (frozenset({2, 3}), 2),\n",
       " (frozenset({5}), 3),\n",
       " (frozenset({2, 5}), 3),\n",
       " (frozenset({3, 5}), 2),\n",
       " (frozenset({2, 3, 5}), 2)]"
      ]
     },
     "execution_count": 28,
     "metadata": {},
     "output_type": "execute_result"
    }
   ],
   "source": [
    "list(itemsets)"
   ]
  },
  {
   "attachments": {},
   "cell_type": "markdown",
   "metadata": {},
   "source": [
    "Motif frequent sur dataset plus large"
   ]
  },
  {
   "cell_type": "code",
   "execution_count": 40,
   "metadata": {},
   "outputs": [
    {
     "name": "stdout",
     "output_type": "stream",
     "text": [
      "101\n"
     ]
    },
    {
     "data": {
      "text/plain": [
       "[1, 0, 0, 1, 0, ... | mammal] {aardvark}"
      ]
     },
     "execution_count": 40,
     "metadata": {},
     "output_type": "execute_result"
    }
   ],
   "source": [
    "import Orange\n",
    "data = Orange.data.Table('zoo')\n",
    "print(len(data))\n",
    "data[0]"
   ]
  },
  {
   "cell_type": "code",
   "execution_count": 41,
   "metadata": {},
   "outputs": [
    {
     "name": "stdout",
     "output_type": "stream",
     "text": [
      "[[False  True  True ... False  True False]\n",
      " [False  True  True ... False  True False]\n",
      " [ True False  True ... False False False]\n",
      " ...\n",
      " [False  True  True ... False  True False]\n",
      " [ True False  True ...  True False False]\n",
      " [ True False False ... False False False]] {0: (0, 0), 1: (0, 1), 2: (1, 0), 3: (1, 1), 4: (2, 0), 5: (2, 1), 6: (3, 0), 7: (3, 1), 8: (4, 0), 9: (4, 1), 10: (5, 0), 11: (5, 1), 12: (6, 0), 13: (6, 1), 14: (7, 0), 15: (7, 1), 16: (8, 0), 17: (8, 1), 18: (9, 0), 19: (9, 1), 20: (10, 0), 21: (10, 1), 22: (11, 0), 23: (11, 1), 24: (12, 0), 25: (12, 1), 26: (12, 2), 27: (12, 3), 28: (12, 4), 29: (12, 5), 30: (13, 0), 31: (13, 1), 32: (14, 0), 33: (14, 1), 34: (15, 0), 35: (15, 1), 36: (16, 0), 37: (16, 1), 38: (16, 2), 39: (16, 3), 40: (16, 4), 41: (16, 5), 42: (16, 6)}\n"
     ]
    }
   ],
   "source": [
    "X, mapping = OneHot.encode(data, include_class=True)\n",
    "print(X, mapping)"
   ]
  },
  {
   "cell_type": "code",
   "execution_count": 42,
   "metadata": {},
   "outputs": [
    {
     "data": {
      "text/plain": [
       "[(0, (0, 0)),\n",
       " (1, (0, 1)),\n",
       " (2, (1, 0)),\n",
       " (3, (1, 1)),\n",
       " (4, (2, 0)),\n",
       " (5, (2, 1)),\n",
       " (6, (3, 0)),\n",
       " (7, (3, 1)),\n",
       " (8, (4, 0)),\n",
       " (9, (4, 1)),\n",
       " (10, (5, 0)),\n",
       " (11, (5, 1)),\n",
       " (12, (6, 0)),\n",
       " (13, (6, 1)),\n",
       " (14, (7, 0)),\n",
       " (15, (7, 1)),\n",
       " (16, (8, 0)),\n",
       " (17, (8, 1)),\n",
       " (18, (9, 0)),\n",
       " (19, (9, 1)),\n",
       " (20, (10, 0)),\n",
       " (21, (10, 1)),\n",
       " (22, (11, 0)),\n",
       " (23, (11, 1)),\n",
       " (24, (12, 0)),\n",
       " (25, (12, 1)),\n",
       " (26, (12, 2)),\n",
       " (27, (12, 3)),\n",
       " (28, (12, 4)),\n",
       " (29, (12, 5)),\n",
       " (30, (13, 0)),\n",
       " (31, (13, 1)),\n",
       " (32, (14, 0)),\n",
       " (33, (14, 1)),\n",
       " (34, (15, 0)),\n",
       " (35, (15, 1)),\n",
       " (36, (16, 0)),\n",
       " (37, (16, 1)),\n",
       " (38, (16, 2)),\n",
       " (39, (16, 3)),\n",
       " (40, (16, 4)),\n",
       " (41, (16, 5)),\n",
       " (42, (16, 6))]"
      ]
     },
     "execution_count": 42,
     "metadata": {},
     "output_type": "execute_result"
    }
   ],
   "source": [
    "sorted(mapping.items())"
   ]
  },
  {
   "attachments": {},
   "cell_type": "markdown",
   "metadata": {},
   "source": [
    "We want itemsets with >40% support:"
   ]
  },
  {
   "cell_type": "code",
   "execution_count": 43,
   "metadata": {},
   "outputs": [
    {
     "data": {
      "text/plain": [
       "520"
      ]
     },
     "execution_count": 43,
     "metadata": {},
     "output_type": "execute_result"
    }
   ],
   "source": [
    "itemsets = dict(frequent_itemsets(X, .4))\n",
    "len(itemsets)"
   ]
  },
  {
   "cell_type": "code",
   "execution_count": 44,
   "metadata": {},
   "outputs": [
    {
     "data": {
      "text/plain": [
       "{36, 37, 38, 39, 40, 41, 42}"
      ]
     },
     "execution_count": 44,
     "metadata": {},
     "output_type": "execute_result"
    }
   ],
   "source": [
    "class_items = {item\n",
    "                for item, var, _ in OneHot.decode(mapping, data, mapping)\n",
    "                if var is data.domain.class_var}\n",
    "class_items"
   ]
  },
  {
   "cell_type": "code",
   "execution_count": 45,
   "metadata": {},
   "outputs": [
    {
     "data": {
      "text/plain": [
       "('amphibian', 'bird', 'fish', 'insect', 'invertebrate', 'mammal', 'reptile')"
      ]
     },
     "execution_count": 45,
     "metadata": {},
     "output_type": "execute_result"
    }
   ],
   "source": [
    "data.domain.class_var.values"
   ]
  },
  {
   "attachments": {},
   "cell_type": "markdown",
   "metadata": {},
   "source": [
    "Now we can generate all association rules that have consequent equal to one of the class values and >80% confidence (i.e. classification rules):"
   ]
  },
  {
   "cell_type": "code",
   "execution_count": 48,
   "metadata": {},
   "outputs": [
    {
     "data": {
      "text/plain": [
       "[(frozenset({2, 7, 17, 19, 20}), frozenset({41}), 41, 1.0),\n",
       " (frozenset({2, 7, 17, 19}), frozenset({41}), 41, 1.0),\n",
       " (frozenset({2, 7, 17, 20}), frozenset({41}), 41, 1.0),\n",
       " (frozenset({2, 7, 19, 20}), frozenset({41}), 41, 1.0),\n",
       " (frozenset({2, 17, 19, 20}), frozenset({41}), 41, 0.8723404255319149),\n",
       " (frozenset({7, 17, 19, 20}), frozenset({41}), 41, 1.0),\n",
       " (frozenset({2, 7, 17}), frozenset({41}), 41, 1.0),\n",
       " (frozenset({2, 7, 19}), frozenset({41}), 41, 1.0),\n",
       " (frozenset({2, 17, 19}), frozenset({41}), 41, 0.8367346938775511),\n",
       " (frozenset({7, 17, 19}), frozenset({41}), 41, 1.0),\n",
       " (frozenset({2, 7, 20}), frozenset({41}), 41, 1.0),\n",
       " (frozenset({7, 17, 20}), frozenset({41}), 41, 1.0),\n",
       " (frozenset({7, 19, 20}), frozenset({41}), 41, 1.0),\n",
       " (frozenset({2, 7}), frozenset({41}), 41, 1.0),\n",
       " (frozenset({7, 17}), frozenset({41}), 41, 1.0),\n",
       " (frozenset({7, 19}), frozenset({41}), 41, 1.0),\n",
       " (frozenset({7, 20}), frozenset({41}), 41, 1.0),\n",
       " (frozenset({7}), frozenset({41}), 41, 1.0)]"
      ]
     },
     "execution_count": 48,
     "metadata": {},
     "output_type": "execute_result"
    }
   ],
   "source": [
    "rules = [(P, Q, supp, conf)\n",
    "        for P, Q, supp, conf in association_rules(itemsets, .8)\n",
    "        if len(Q) == 1 and Q & class_items]\n",
    "len(rules)\n",
    "rules"
   ]
  },
  {
   "attachments": {},
   "cell_type": "markdown",
   "metadata": {},
   "source": [
    "To make them more helpful, we can use mapping to transform the rules’ items back into table domain values, e.g. for first five rules:"
   ]
  },
  {
   "cell_type": "code",
   "execution_count": 49,
   "metadata": {},
   "outputs": [],
   "source": [
    "names = {item: '{}={}'.format(var.name, val)\n",
    "          for item, var, val in OneHot.decode(mapping, data, mapping)}"
   ]
  },
  {
   "cell_type": "code",
   "execution_count": 50,
   "metadata": {},
   "outputs": [
    {
     "name": "stdout",
     "output_type": "stream",
     "text": [
      "feathers=0, milk=1, backbone=1, breathes=1, venomous=0 --> type=mammal (supp: 41, conf: 1.0)\n",
      "backbone=1, feathers=0, breathes=1, milk=1 --> type=mammal (supp: 41, conf: 1.0)\n",
      "backbone=1, feathers=0, venomous=0, milk=1 --> type=mammal (supp: 41, conf: 1.0)\n",
      "feathers=0, breathes=1, venomous=0, milk=1 --> type=mammal (supp: 41, conf: 1.0)\n",
      "backbone=1, feathers=0, breathes=1, venomous=0 --> type=mammal (supp: 41, conf: 0.8723404255319149)\n"
     ]
    }
   ],
   "source": [
    "for ante, cons, supp, conf in rules[:5]:\n",
    "    print(', '.join(names[i] for i in ante), '-->',\n",
    "          names[next(iter(cons))],\n",
    "          '(supp: {}, conf: {})'.format(supp, conf))"
   ]
  },
  {
   "attachments": {},
   "cell_type": "markdown",
   "metadata": {},
   "source": [
    "Exemple 3 : database of 50 transactions, 100 possible item"
   ]
  },
  {
   "cell_type": "code",
   "execution_count": 53,
   "metadata": {},
   "outputs": [],
   "source": [
    "import numpy as np\n",
    "np.random.seed(0)\n",
    "X = np.random.random((50, 100)) > .9"
   ]
  },
  {
   "cell_type": "code",
   "execution_count": 59,
   "metadata": {},
   "outputs": [],
   "source": [
    "from scipy.sparse import lil_matrix  # other types would convert to LIL anyway\n",
    "X = lil_matrix(X)"
   ]
  },
  {
   "attachments": {},
   "cell_type": "markdown",
   "metadata": {},
   "source": [
    "Count the number of itemsets of at least two items with support greater than 4%:"
   ]
  },
  {
   "cell_type": "code",
   "execution_count": 60,
   "metadata": {},
   "outputs": [
    {
     "data": {
      "text/plain": [
       "72"
      ]
     },
     "execution_count": 60,
     "metadata": {},
     "output_type": "execute_result"
    }
   ],
   "source": [
    "sum(1 for itemset, support in frequent_itemsets(X, .05) if len(itemset) >= 2)"
   ]
  },
  {
   "cell_type": "code",
   "execution_count": 61,
   "metadata": {},
   "outputs": [
    {
     "data": {
      "text/plain": [
       "<generator object frequent_itemsets at 0x7fb6396df200>"
      ]
     },
     "execution_count": 61,
     "metadata": {},
     "output_type": "execute_result"
    }
   ],
   "source": [
    "gen = frequent_itemsets(X, .2) # Item avec 20% de support\n",
    "gen\n"
   ]
  },
  {
   "cell_type": "code",
   "execution_count": 62,
   "metadata": {},
   "outputs": [
    {
     "data": {
      "text/plain": [
       "[(frozenset({4}), 11), (frozenset({25}), 10)]"
      ]
     },
     "execution_count": 62,
     "metadata": {},
     "output_type": "execute_result"
    }
   ],
   "source": [
    "itemsets = list(gen)\n",
    "itemsets"
   ]
  },
  {
   "cell_type": "code",
   "execution_count": null,
   "metadata": {},
   "outputs": [],
   "source": []
  }
 ],
 "metadata": {
  "kernelspec": {
   "display_name": "base",
   "language": "python",
   "name": "python3"
  },
  "language_info": {
   "codemirror_mode": {
    "name": "ipython",
    "version": 3
   },
   "file_extension": ".py",
   "mimetype": "text/x-python",
   "name": "python",
   "nbconvert_exporter": "python",
   "pygments_lexer": "ipython3",
   "version": "3.9.12"
  },
  "orig_nbformat": 4,
  "vscode": {
   "interpreter": {
    "hash": "bc5a6fcd42aefd11aead72b01bc4e6842c205ebb69c94514e1be95f4dbf05863"
   }
  }
 },
 "nbformat": 4,
 "nbformat_minor": 2
}
