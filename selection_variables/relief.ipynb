{
 "cells": [
  {
   "cell_type": "code",
   "execution_count": 44,
   "metadata": {},
   "outputs": [],
   "source": [
    "import pandas as pd\n",
    "import ReliefF as rlf\n",
    "from sklearn.ensemble import RandomForestClassifier\n",
    "from sklearn.feature_selection import SequentialFeatureSelector\n",
    "from sklearn.preprocessing import OneHotEncoder, OrdinalEncoder"
   ]
  },
  {
   "cell_type": "code",
   "execution_count": 39,
   "metadata": {},
   "outputs": [],
   "source": [
    "data_cat = pd.read_csv(\"/Users/louisedry/Desktop/IODAA/fil_rouge/git/fil_rouge/data_pretraitee/data_categorielle.csv\", sep=\";\", index_col=0)\n",
    "data_mix = pd.read_csv(\"/Users/louisedry/Desktop/IODAA/fil_rouge/git/fil_rouge/data_pretraitee/data_pretraite.csv\", sep=\";\", index_col=0)"
   ]
  },
  {
   "cell_type": "code",
   "execution_count": 58,
   "metadata": {},
   "outputs": [
    {
     "data": {
      "text/plain": [
       "Temp_quali      0\n",
       "Pluie_quali     0\n",
       "Pluie_ON       83\n",
       "Saison          6\n",
       "Pic_O3          0\n",
       "Pic_J45         0\n",
       "Pic_J182        0\n",
       "dtype: int64"
      ]
     },
     "execution_count": 58,
     "metadata": {},
     "output_type": "execute_result"
    }
   ],
   "source": [
    "data_cat.isna().sum()"
   ]
  },
  {
   "cell_type": "code",
   "execution_count": null,
   "metadata": {},
   "outputs": [],
   "source": []
  },
  {
   "cell_type": "code",
   "execution_count": 38,
   "metadata": {},
   "outputs": [
    {
     "data": {
      "text/plain": [
       "soilH_h1               float64\n",
       "soilH_h2               float64\n",
       "NO3_h1                 float64\n",
       "NO3_h2                 float64\n",
       "NH4_h1                 float64\n",
       "NH4_h2                 float64\n",
       "meanTP                 float64\n",
       "air_humidity           float64\n",
       "pluie                  float64\n",
       "Travail_sol_J90           bool\n",
       "Semis_J90                 bool\n",
       "CP                      object\n",
       "Peuplement              object\n",
       "fertilisation          float64\n",
       "nbJours_ferti          float64\n",
       "Ajout_phyto_30J        float64\n",
       "Ajout_phyto_45J        float64\n",
       "Ajout_phyto_60J        float64\n",
       "Ajout_ferti_30J        float64\n",
       "Ajout_ferti_45J        float64\n",
       "Ajout_ferti_60J        float64\n",
       "Recolte                float64\n",
       "mean_soilH_h1_J5       float64\n",
       "mean_soilH_h2_J5       float64\n",
       "mean_NH4_h1_J5         float64\n",
       "mean_NH4_h2_J5         float64\n",
       "mean_NO3_h1_J5         float64\n",
       "mean_NO3_h2_J5         float64\n",
       "N2O_O3                 float64\n",
       "N2O_J45                float64\n",
       "N2O_J182               float64\n",
       "Humidite_max_5J        float64\n",
       "Humidite_min_5J        float64\n",
       "Humidite_moyenne_5J    float64\n",
       "Temp_max_5J            float64\n",
       "Temp_min_5J            float64\n",
       "Temp_moyenne_5J        float64\n",
       "Sum_ETP_5J             float64\n",
       "Sum_pluie_5J           float64\n",
       "acs                    float64\n",
       "pn                     float64\n",
       "bi                     float64\n",
       "bio                    float64\n",
       "elev                   float64\n",
       "ref                    float64\n",
       "week                     int64\n",
       "month                    int64\n",
       "year                     int64\n",
       "2018                   float64\n",
       "2019                   float64\n",
       "2020                   float64\n",
       "2021                   float64\n",
       "Pic_03                    bool\n",
       "Pic_J45                   bool\n",
       "Pic_J182                  bool\n",
       "dtype: object"
      ]
     },
     "execution_count": 38,
     "metadata": {},
     "output_type": "execute_result"
    }
   ],
   "source": [
    "data_mix.dtypes"
   ]
  },
  {
   "cell_type": "code",
   "execution_count": 34,
   "metadata": {},
   "outputs": [],
   "source": [
    "target = data_mix['N2O']"
   ]
  },
  {
   "cell_type": "code",
   "execution_count": 40,
   "metadata": {},
   "outputs": [],
   "source": [
    "data_mix = data_mix.drop(['N2O', 'Date', 'Bande', 'CP', 'Peuplement'], axis=1)"
   ]
  },
  {
   "cell_type": "markdown",
   "metadata": {},
   "source": [
    "#### Sequential Feature Selector"
   ]
  },
  {
   "cell_type": "markdown",
   "metadata": {},
   "source": [
    "Plus long"
   ]
  },
  {
   "cell_type": "code",
   "execution_count": 53,
   "metadata": {},
   "outputs": [],
   "source": [
    "OHE = OneHotEncoder(sparse=False)\n",
    "newdata_cat = OHE.fit_transform(data_cat)"
   ]
  },
  {
   "cell_type": "code",
   "execution_count": 55,
   "metadata": {},
   "outputs": [
    {
     "data": {
      "text/plain": [
       "[array(['basse', 'elevee', 'moyenne'], dtype=object),\n",
       " array(['basse', 'elevee', 'moyenne'], dtype=object),\n",
       " array(['pas_pluie', 'pluie', nan], dtype=object),\n",
       " array(['automne', 'ete', 'hiver', 'printemps', nan], dtype=object),\n",
       " array([False,  True]),\n",
       " array([False,  True]),\n",
       " array([False,  True])]"
      ]
     },
     "execution_count": 55,
     "metadata": {},
     "output_type": "execute_result"
    }
   ],
   "source": [
    "OHE.categories_"
   ]
  },
  {
   "cell_type": "code",
   "execution_count": 51,
   "metadata": {},
   "outputs": [
    {
     "ename": "ValueError",
     "evalue": "\nAll the 5 fits failed.\nIt is very likely that your model is misconfigured.\nYou can try to debug the error by setting error_score='raise'.\n\nBelow are more details about the failures:\n--------------------------------------------------------------------------------\n5 fits failed with the following error:\nTraceback (most recent call last):\n  File \"/Users/louisedry/mambaforge/lib/python3.10/site-packages/sklearn/model_selection/_validation.py\", line 686, in _fit_and_score\n    estimator.fit(X_train, y_train, **fit_params)\n  File \"/Users/louisedry/mambaforge/lib/python3.10/site-packages/sklearn/ensemble/_forest.py\", line 371, in fit\n    y, expanded_class_weight = self._validate_y_class_weight(y)\n  File \"/Users/louisedry/mambaforge/lib/python3.10/site-packages/sklearn/ensemble/_forest.py\", line 758, in _validate_y_class_weight\n    check_classification_targets(y)\n  File \"/Users/louisedry/mambaforge/lib/python3.10/site-packages/sklearn/utils/multiclass.py\", line 200, in check_classification_targets\n    raise ValueError(\"Unknown label type: %r\" % y_type)\nValueError: Unknown label type: 'continuous'\n",
     "output_type": "error",
     "traceback": [
      "\u001b[0;31m---------------------------------------------------------------------------\u001b[0m",
      "\u001b[0;31mValueError\u001b[0m                                Traceback (most recent call last)",
      "Cell \u001b[0;32mIn [51], line 4\u001b[0m\n\u001b[1;32m      1\u001b[0m rf \u001b[38;5;241m=\u001b[39m RandomForestClassifier(n_estimators\u001b[38;5;241m=\u001b[39m\u001b[38;5;241m200\u001b[39m) \u001b[38;5;66;03m# voir avec anne cé ses métaparamètres\u001b[39;00m\n\u001b[1;32m      2\u001b[0m sfs \u001b[38;5;241m=\u001b[39m SequentialFeatureSelector(rf, n_features_to_select\u001b[38;5;241m=\u001b[39m\u001b[38;5;241m5\u001b[39m)\n\u001b[0;32m----> 4\u001b[0m sfs_mix \u001b[38;5;241m=\u001b[39m \u001b[43msfs\u001b[49m\u001b[38;5;241;43m.\u001b[39;49m\u001b[43mfit\u001b[49m\u001b[43m(\u001b[49m\u001b[43mnewdata_cat\u001b[49m\u001b[43m,\u001b[49m\u001b[43m \u001b[49m\u001b[43mtarget\u001b[49m\u001b[43m)\u001b[49m\n\u001b[1;32m      5\u001b[0m sfs_mix\u001b[38;5;241m.\u001b[39mget_support\n",
      "File \u001b[0;32m~/mambaforge/lib/python3.10/site-packages/sklearn/feature_selection/_sequential.py:260\u001b[0m, in \u001b[0;36mSequentialFeatureSelector.fit\u001b[0;34m(self, X, y)\u001b[0m\n\u001b[1;32m    <a href='file:///Users/louisedry/mambaforge/lib/python3.10/site-packages/sklearn/feature_selection/_sequential.py?line=257'>258</a>\u001b[0m is_auto_select \u001b[39m=\u001b[39m \u001b[39mself\u001b[39m\u001b[39m.\u001b[39mtol \u001b[39mis\u001b[39;00m \u001b[39mnot\u001b[39;00m \u001b[39mNone\u001b[39;00m \u001b[39mand\u001b[39;00m \u001b[39mself\u001b[39m\u001b[39m.\u001b[39mn_features_to_select \u001b[39m==\u001b[39m \u001b[39m\"\u001b[39m\u001b[39mauto\u001b[39m\u001b[39m\"\u001b[39m\n\u001b[1;32m    <a href='file:///Users/louisedry/mambaforge/lib/python3.10/site-packages/sklearn/feature_selection/_sequential.py?line=258'>259</a>\u001b[0m \u001b[39mfor\u001b[39;00m _ \u001b[39min\u001b[39;00m \u001b[39mrange\u001b[39m(n_iterations):\n\u001b[0;32m--> <a href='file:///Users/louisedry/mambaforge/lib/python3.10/site-packages/sklearn/feature_selection/_sequential.py?line=259'>260</a>\u001b[0m     new_feature_idx, new_score \u001b[39m=\u001b[39m \u001b[39mself\u001b[39;49m\u001b[39m.\u001b[39;49m_get_best_new_feature_score(\n\u001b[1;32m    <a href='file:///Users/louisedry/mambaforge/lib/python3.10/site-packages/sklearn/feature_selection/_sequential.py?line=260'>261</a>\u001b[0m         cloned_estimator, X, y, current_mask\n\u001b[1;32m    <a href='file:///Users/louisedry/mambaforge/lib/python3.10/site-packages/sklearn/feature_selection/_sequential.py?line=261'>262</a>\u001b[0m     )\n\u001b[1;32m    <a href='file:///Users/louisedry/mambaforge/lib/python3.10/site-packages/sklearn/feature_selection/_sequential.py?line=262'>263</a>\u001b[0m     \u001b[39mif\u001b[39;00m is_auto_select \u001b[39mand\u001b[39;00m ((new_score \u001b[39m-\u001b[39m old_score) \u001b[39m<\u001b[39m \u001b[39mself\u001b[39m\u001b[39m.\u001b[39mtol):\n\u001b[1;32m    <a href='file:///Users/louisedry/mambaforge/lib/python3.10/site-packages/sklearn/feature_selection/_sequential.py?line=263'>264</a>\u001b[0m         \u001b[39mbreak\u001b[39;00m\n",
      "File \u001b[0;32m~/mambaforge/lib/python3.10/site-packages/sklearn/feature_selection/_sequential.py:291\u001b[0m, in \u001b[0;36mSequentialFeatureSelector._get_best_new_feature_score\u001b[0;34m(self, estimator, X, y, current_mask)\u001b[0m\n\u001b[1;32m    <a href='file:///Users/louisedry/mambaforge/lib/python3.10/site-packages/sklearn/feature_selection/_sequential.py?line=288'>289</a>\u001b[0m         candidate_mask \u001b[39m=\u001b[39m \u001b[39m~\u001b[39mcandidate_mask\n\u001b[1;32m    <a href='file:///Users/louisedry/mambaforge/lib/python3.10/site-packages/sklearn/feature_selection/_sequential.py?line=289'>290</a>\u001b[0m     X_new \u001b[39m=\u001b[39m X[:, candidate_mask]\n\u001b[0;32m--> <a href='file:///Users/louisedry/mambaforge/lib/python3.10/site-packages/sklearn/feature_selection/_sequential.py?line=290'>291</a>\u001b[0m     scores[feature_idx] \u001b[39m=\u001b[39m cross_val_score(\n\u001b[1;32m    <a href='file:///Users/louisedry/mambaforge/lib/python3.10/site-packages/sklearn/feature_selection/_sequential.py?line=291'>292</a>\u001b[0m         estimator,\n\u001b[1;32m    <a href='file:///Users/louisedry/mambaforge/lib/python3.10/site-packages/sklearn/feature_selection/_sequential.py?line=292'>293</a>\u001b[0m         X_new,\n\u001b[1;32m    <a href='file:///Users/louisedry/mambaforge/lib/python3.10/site-packages/sklearn/feature_selection/_sequential.py?line=293'>294</a>\u001b[0m         y,\n\u001b[1;32m    <a href='file:///Users/louisedry/mambaforge/lib/python3.10/site-packages/sklearn/feature_selection/_sequential.py?line=294'>295</a>\u001b[0m         cv\u001b[39m=\u001b[39;49m\u001b[39mself\u001b[39;49m\u001b[39m.\u001b[39;49mcv,\n\u001b[1;32m    <a href='file:///Users/louisedry/mambaforge/lib/python3.10/site-packages/sklearn/feature_selection/_sequential.py?line=295'>296</a>\u001b[0m         scoring\u001b[39m=\u001b[39;49m\u001b[39mself\u001b[39;49m\u001b[39m.\u001b[39;49mscoring,\n\u001b[1;32m    <a href='file:///Users/louisedry/mambaforge/lib/python3.10/site-packages/sklearn/feature_selection/_sequential.py?line=296'>297</a>\u001b[0m         n_jobs\u001b[39m=\u001b[39;49m\u001b[39mself\u001b[39;49m\u001b[39m.\u001b[39;49mn_jobs,\n\u001b[1;32m    <a href='file:///Users/louisedry/mambaforge/lib/python3.10/site-packages/sklearn/feature_selection/_sequential.py?line=297'>298</a>\u001b[0m     )\u001b[39m.\u001b[39mmean()\n\u001b[1;32m    <a href='file:///Users/louisedry/mambaforge/lib/python3.10/site-packages/sklearn/feature_selection/_sequential.py?line=298'>299</a>\u001b[0m new_feature_idx \u001b[39m=\u001b[39m \u001b[39mmax\u001b[39m(scores, key\u001b[39m=\u001b[39m\u001b[39mlambda\u001b[39;00m feature_idx: scores[feature_idx])\n\u001b[1;32m    <a href='file:///Users/louisedry/mambaforge/lib/python3.10/site-packages/sklearn/feature_selection/_sequential.py?line=299'>300</a>\u001b[0m \u001b[39mreturn\u001b[39;00m new_feature_idx, scores[new_feature_idx]\n",
      "File \u001b[0;32m~/mambaforge/lib/python3.10/site-packages/sklearn/model_selection/_validation.py:515\u001b[0m, in \u001b[0;36mcross_val_score\u001b[0;34m(estimator, X, y, groups, scoring, cv, n_jobs, verbose, fit_params, pre_dispatch, error_score)\u001b[0m\n\u001b[1;32m    <a href='file:///Users/louisedry/mambaforge/lib/python3.10/site-packages/sklearn/model_selection/_validation.py?line=511'>512</a>\u001b[0m \u001b[39m# To ensure multimetric format is not supported\u001b[39;00m\n\u001b[1;32m    <a href='file:///Users/louisedry/mambaforge/lib/python3.10/site-packages/sklearn/model_selection/_validation.py?line=512'>513</a>\u001b[0m scorer \u001b[39m=\u001b[39m check_scoring(estimator, scoring\u001b[39m=\u001b[39mscoring)\n\u001b[0;32m--> <a href='file:///Users/louisedry/mambaforge/lib/python3.10/site-packages/sklearn/model_selection/_validation.py?line=514'>515</a>\u001b[0m cv_results \u001b[39m=\u001b[39m cross_validate(\n\u001b[1;32m    <a href='file:///Users/louisedry/mambaforge/lib/python3.10/site-packages/sklearn/model_selection/_validation.py?line=515'>516</a>\u001b[0m     estimator\u001b[39m=\u001b[39;49mestimator,\n\u001b[1;32m    <a href='file:///Users/louisedry/mambaforge/lib/python3.10/site-packages/sklearn/model_selection/_validation.py?line=516'>517</a>\u001b[0m     X\u001b[39m=\u001b[39;49mX,\n\u001b[1;32m    <a href='file:///Users/louisedry/mambaforge/lib/python3.10/site-packages/sklearn/model_selection/_validation.py?line=517'>518</a>\u001b[0m     y\u001b[39m=\u001b[39;49my,\n\u001b[1;32m    <a href='file:///Users/louisedry/mambaforge/lib/python3.10/site-packages/sklearn/model_selection/_validation.py?line=518'>519</a>\u001b[0m     groups\u001b[39m=\u001b[39;49mgroups,\n\u001b[1;32m    <a href='file:///Users/louisedry/mambaforge/lib/python3.10/site-packages/sklearn/model_selection/_validation.py?line=519'>520</a>\u001b[0m     scoring\u001b[39m=\u001b[39;49m{\u001b[39m\"\u001b[39;49m\u001b[39mscore\u001b[39;49m\u001b[39m\"\u001b[39;49m: scorer},\n\u001b[1;32m    <a href='file:///Users/louisedry/mambaforge/lib/python3.10/site-packages/sklearn/model_selection/_validation.py?line=520'>521</a>\u001b[0m     cv\u001b[39m=\u001b[39;49mcv,\n\u001b[1;32m    <a href='file:///Users/louisedry/mambaforge/lib/python3.10/site-packages/sklearn/model_selection/_validation.py?line=521'>522</a>\u001b[0m     n_jobs\u001b[39m=\u001b[39;49mn_jobs,\n\u001b[1;32m    <a href='file:///Users/louisedry/mambaforge/lib/python3.10/site-packages/sklearn/model_selection/_validation.py?line=522'>523</a>\u001b[0m     verbose\u001b[39m=\u001b[39;49mverbose,\n\u001b[1;32m    <a href='file:///Users/louisedry/mambaforge/lib/python3.10/site-packages/sklearn/model_selection/_validation.py?line=523'>524</a>\u001b[0m     fit_params\u001b[39m=\u001b[39;49mfit_params,\n\u001b[1;32m    <a href='file:///Users/louisedry/mambaforge/lib/python3.10/site-packages/sklearn/model_selection/_validation.py?line=524'>525</a>\u001b[0m     pre_dispatch\u001b[39m=\u001b[39;49mpre_dispatch,\n\u001b[1;32m    <a href='file:///Users/louisedry/mambaforge/lib/python3.10/site-packages/sklearn/model_selection/_validation.py?line=525'>526</a>\u001b[0m     error_score\u001b[39m=\u001b[39;49merror_score,\n\u001b[1;32m    <a href='file:///Users/louisedry/mambaforge/lib/python3.10/site-packages/sklearn/model_selection/_validation.py?line=526'>527</a>\u001b[0m )\n\u001b[1;32m    <a href='file:///Users/louisedry/mambaforge/lib/python3.10/site-packages/sklearn/model_selection/_validation.py?line=527'>528</a>\u001b[0m \u001b[39mreturn\u001b[39;00m cv_results[\u001b[39m\"\u001b[39m\u001b[39mtest_score\u001b[39m\u001b[39m\"\u001b[39m]\n",
      "File \u001b[0;32m~/mambaforge/lib/python3.10/site-packages/sklearn/model_selection/_validation.py:285\u001b[0m, in \u001b[0;36mcross_validate\u001b[0;34m(estimator, X, y, groups, scoring, cv, n_jobs, verbose, fit_params, pre_dispatch, return_train_score, return_estimator, error_score)\u001b[0m\n\u001b[1;32m    <a href='file:///Users/louisedry/mambaforge/lib/python3.10/site-packages/sklearn/model_selection/_validation.py?line=264'>265</a>\u001b[0m parallel \u001b[39m=\u001b[39m Parallel(n_jobs\u001b[39m=\u001b[39mn_jobs, verbose\u001b[39m=\u001b[39mverbose, pre_dispatch\u001b[39m=\u001b[39mpre_dispatch)\n\u001b[1;32m    <a href='file:///Users/louisedry/mambaforge/lib/python3.10/site-packages/sklearn/model_selection/_validation.py?line=265'>266</a>\u001b[0m results \u001b[39m=\u001b[39m parallel(\n\u001b[1;32m    <a href='file:///Users/louisedry/mambaforge/lib/python3.10/site-packages/sklearn/model_selection/_validation.py?line=266'>267</a>\u001b[0m     delayed(_fit_and_score)(\n\u001b[1;32m    <a href='file:///Users/louisedry/mambaforge/lib/python3.10/site-packages/sklearn/model_selection/_validation.py?line=267'>268</a>\u001b[0m         clone(estimator),\n\u001b[0;32m   (...)\u001b[0m\n\u001b[1;32m    <a href='file:///Users/louisedry/mambaforge/lib/python3.10/site-packages/sklearn/model_selection/_validation.py?line=281'>282</a>\u001b[0m     \u001b[39mfor\u001b[39;00m train, test \u001b[39min\u001b[39;00m cv\u001b[39m.\u001b[39msplit(X, y, groups)\n\u001b[1;32m    <a href='file:///Users/louisedry/mambaforge/lib/python3.10/site-packages/sklearn/model_selection/_validation.py?line=282'>283</a>\u001b[0m )\n\u001b[0;32m--> <a href='file:///Users/louisedry/mambaforge/lib/python3.10/site-packages/sklearn/model_selection/_validation.py?line=284'>285</a>\u001b[0m _warn_or_raise_about_fit_failures(results, error_score)\n\u001b[1;32m    <a href='file:///Users/louisedry/mambaforge/lib/python3.10/site-packages/sklearn/model_selection/_validation.py?line=286'>287</a>\u001b[0m \u001b[39m# For callabe scoring, the return type is only know after calling. If the\u001b[39;00m\n\u001b[1;32m    <a href='file:///Users/louisedry/mambaforge/lib/python3.10/site-packages/sklearn/model_selection/_validation.py?line=287'>288</a>\u001b[0m \u001b[39m# return type is a dictionary, the error scores can now be inserted with\u001b[39;00m\n\u001b[1;32m    <a href='file:///Users/louisedry/mambaforge/lib/python3.10/site-packages/sklearn/model_selection/_validation.py?line=288'>289</a>\u001b[0m \u001b[39m# the correct key.\u001b[39;00m\n\u001b[1;32m    <a href='file:///Users/louisedry/mambaforge/lib/python3.10/site-packages/sklearn/model_selection/_validation.py?line=289'>290</a>\u001b[0m \u001b[39mif\u001b[39;00m callable(scoring):\n",
      "File \u001b[0;32m~/mambaforge/lib/python3.10/site-packages/sklearn/model_selection/_validation.py:367\u001b[0m, in \u001b[0;36m_warn_or_raise_about_fit_failures\u001b[0;34m(results, error_score)\u001b[0m\n\u001b[1;32m    <a href='file:///Users/louisedry/mambaforge/lib/python3.10/site-packages/sklearn/model_selection/_validation.py?line=359'>360</a>\u001b[0m \u001b[39mif\u001b[39;00m num_failed_fits \u001b[39m==\u001b[39m num_fits:\n\u001b[1;32m    <a href='file:///Users/louisedry/mambaforge/lib/python3.10/site-packages/sklearn/model_selection/_validation.py?line=360'>361</a>\u001b[0m     all_fits_failed_message \u001b[39m=\u001b[39m (\n\u001b[1;32m    <a href='file:///Users/louisedry/mambaforge/lib/python3.10/site-packages/sklearn/model_selection/_validation.py?line=361'>362</a>\u001b[0m         \u001b[39mf\u001b[39m\u001b[39m\"\u001b[39m\u001b[39m\\n\u001b[39;00m\u001b[39mAll the \u001b[39m\u001b[39m{\u001b[39;00mnum_fits\u001b[39m}\u001b[39;00m\u001b[39m fits failed.\u001b[39m\u001b[39m\\n\u001b[39;00m\u001b[39m\"\u001b[39m\n\u001b[1;32m    <a href='file:///Users/louisedry/mambaforge/lib/python3.10/site-packages/sklearn/model_selection/_validation.py?line=362'>363</a>\u001b[0m         \u001b[39m\"\u001b[39m\u001b[39mIt is very likely that your model is misconfigured.\u001b[39m\u001b[39m\\n\u001b[39;00m\u001b[39m\"\u001b[39m\n\u001b[1;32m    <a href='file:///Users/louisedry/mambaforge/lib/python3.10/site-packages/sklearn/model_selection/_validation.py?line=363'>364</a>\u001b[0m         \u001b[39m\"\u001b[39m\u001b[39mYou can try to debug the error by setting error_score=\u001b[39m\u001b[39m'\u001b[39m\u001b[39mraise\u001b[39m\u001b[39m'\u001b[39m\u001b[39m.\u001b[39m\u001b[39m\\n\u001b[39;00m\u001b[39m\\n\u001b[39;00m\u001b[39m\"\u001b[39m\n\u001b[1;32m    <a href='file:///Users/louisedry/mambaforge/lib/python3.10/site-packages/sklearn/model_selection/_validation.py?line=364'>365</a>\u001b[0m         \u001b[39mf\u001b[39m\u001b[39m\"\u001b[39m\u001b[39mBelow are more details about the failures:\u001b[39m\u001b[39m\\n\u001b[39;00m\u001b[39m{\u001b[39;00mfit_errors_summary\u001b[39m}\u001b[39;00m\u001b[39m\"\u001b[39m\n\u001b[1;32m    <a href='file:///Users/louisedry/mambaforge/lib/python3.10/site-packages/sklearn/model_selection/_validation.py?line=365'>366</a>\u001b[0m     )\n\u001b[0;32m--> <a href='file:///Users/louisedry/mambaforge/lib/python3.10/site-packages/sklearn/model_selection/_validation.py?line=366'>367</a>\u001b[0m     \u001b[39mraise\u001b[39;00m \u001b[39mValueError\u001b[39;00m(all_fits_failed_message)\n\u001b[1;32m    <a href='file:///Users/louisedry/mambaforge/lib/python3.10/site-packages/sklearn/model_selection/_validation.py?line=368'>369</a>\u001b[0m \u001b[39melse\u001b[39;00m:\n\u001b[1;32m    <a href='file:///Users/louisedry/mambaforge/lib/python3.10/site-packages/sklearn/model_selection/_validation.py?line=369'>370</a>\u001b[0m     some_fits_failed_message \u001b[39m=\u001b[39m (\n\u001b[1;32m    <a href='file:///Users/louisedry/mambaforge/lib/python3.10/site-packages/sklearn/model_selection/_validation.py?line=370'>371</a>\u001b[0m         \u001b[39mf\u001b[39m\u001b[39m\"\u001b[39m\u001b[39m\\n\u001b[39;00m\u001b[39m{\u001b[39;00mnum_failed_fits\u001b[39m}\u001b[39;00m\u001b[39m fits failed out of a total of \u001b[39m\u001b[39m{\u001b[39;00mnum_fits\u001b[39m}\u001b[39;00m\u001b[39m.\u001b[39m\u001b[39m\\n\u001b[39;00m\u001b[39m\"\u001b[39m\n\u001b[1;32m    <a href='file:///Users/louisedry/mambaforge/lib/python3.10/site-packages/sklearn/model_selection/_validation.py?line=371'>372</a>\u001b[0m         \u001b[39m\"\u001b[39m\u001b[39mThe score on these train-test partitions for these parameters\u001b[39m\u001b[39m\"\u001b[39m\n\u001b[0;32m   (...)\u001b[0m\n\u001b[1;32m    <a href='file:///Users/louisedry/mambaforge/lib/python3.10/site-packages/sklearn/model_selection/_validation.py?line=375'>376</a>\u001b[0m         \u001b[39mf\u001b[39m\u001b[39m\"\u001b[39m\u001b[39mBelow are more details about the failures:\u001b[39m\u001b[39m\\n\u001b[39;00m\u001b[39m{\u001b[39;00mfit_errors_summary\u001b[39m}\u001b[39;00m\u001b[39m\"\u001b[39m\n\u001b[1;32m    <a href='file:///Users/louisedry/mambaforge/lib/python3.10/site-packages/sklearn/model_selection/_validation.py?line=376'>377</a>\u001b[0m     )\n",
      "\u001b[0;31mValueError\u001b[0m: \nAll the 5 fits failed.\nIt is very likely that your model is misconfigured.\nYou can try to debug the error by setting error_score='raise'.\n\nBelow are more details about the failures:\n--------------------------------------------------------------------------------\n5 fits failed with the following error:\nTraceback (most recent call last):\n  File \"/Users/louisedry/mambaforge/lib/python3.10/site-packages/sklearn/model_selection/_validation.py\", line 686, in _fit_and_score\n    estimator.fit(X_train, y_train, **fit_params)\n  File \"/Users/louisedry/mambaforge/lib/python3.10/site-packages/sklearn/ensemble/_forest.py\", line 371, in fit\n    y, expanded_class_weight = self._validate_y_class_weight(y)\n  File \"/Users/louisedry/mambaforge/lib/python3.10/site-packages/sklearn/ensemble/_forest.py\", line 758, in _validate_y_class_weight\n    check_classification_targets(y)\n  File \"/Users/louisedry/mambaforge/lib/python3.10/site-packages/sklearn/utils/multiclass.py\", line 200, in check_classification_targets\n    raise ValueError(\"Unknown label type: %r\" % y_type)\nValueError: Unknown label type: 'continuous'\n"
     ]
    }
   ],
   "source": [
    "rf = RandomForestClassifier(n_estimators=200) # voir avec anne cé ses métaparamètres\n",
    "sfs = SequentialFeatureSelector(rf, n_features_to_select=5)\n",
    "\n",
    "sfs_mix = sfs.fit(newdata_cat, target)\n",
    "sfs_mix.get_support"
   ]
  },
  {
   "cell_type": "code",
   "execution_count": null,
   "metadata": {},
   "outputs": [],
   "source": []
  }
 ],
 "metadata": {
  "interpreter": {
   "hash": "6a5541ed1b3d64483838366045b66d4d77af5e8cc5a3b588e484addbf01e0851"
  },
  "kernelspec": {
   "display_name": "Python 3.10.6 ('base')",
   "language": "python",
   "name": "python3"
  },
  "language_info": {
   "codemirror_mode": {
    "name": "ipython",
    "version": 3
   },
   "file_extension": ".py",
   "mimetype": "text/x-python",
   "name": "python",
   "nbconvert_exporter": "python",
   "pygments_lexer": "ipython3",
   "version": "3.10.6"
  },
  "orig_nbformat": 4
 },
 "nbformat": 4,
 "nbformat_minor": 2
}
