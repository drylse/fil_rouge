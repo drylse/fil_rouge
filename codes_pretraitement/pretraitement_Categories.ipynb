{
 "cells": [
  {
   "attachments": {},
   "cell_type": "markdown",
   "metadata": {},
   "source": [
    "# Passage en donnée catégorielle pour la détection de fréquences récurrentes"
   ]
  },
  {
   "attachments": {},
   "cell_type": "markdown",
   "metadata": {},
   "source": [
    "### Import libraries"
   ]
  },
  {
   "cell_type": "code",
   "execution_count": 1,
   "metadata": {},
   "outputs": [],
   "source": [
    "import pandas as pd\n",
    "import numpy as np"
   ]
  },
  {
   "attachments": {},
   "cell_type": "markdown",
   "metadata": {},
   "source": [
    "### Import datasets"
   ]
  },
  {
   "cell_type": "code",
   "execution_count": 3,
   "metadata": {},
   "outputs": [],
   "source": [
    "data =  pd.read_csv(\"../data_pretraitee/data_pretraite.csv\", sep=';', index_col = 0, parse_dates=['Date'])\n",
    "meteo = pd.read_excel(\"../data/meteo_2017_2022.xlsx\")"
   ]
  },
  {
   "cell_type": "code",
   "execution_count": 4,
   "metadata": {},
   "outputs": [],
   "source": [
    "meteo_18_21=meteo[(meteo[\"Année\"]!=2017) & (meteo[\"Année\"]!=2022)]"
   ]
  },
  {
   "cell_type": "code",
   "execution_count": 6,
   "metadata": {},
   "outputs": [
    {
     "data": {
      "text/plain": [
       "Index(['N2O', 'Date', 'Bande', 'soilH_h1', 'soilH_h2', 'NO3_h1', 'NO3_h2',\n",
       "       'NH4_h1', 'NH4_h2', 'meanTP', 'air_humidity', 'pluie',\n",
       "       'Travail_sol_J90', 'Semis_J90', 'CP', 'Peuplement', 'fertilisation',\n",
       "       'nbJours_ferti', 'Ajout_phyto_30J', 'Ajout_phyto_45J',\n",
       "       'Ajout_phyto_60J', 'Ajout_ferti_30J', 'Ajout_ferti_45J',\n",
       "       'Ajout_ferti_60J', 'Recolte', 'mean_soilH_h1_J5', 'mean_soilH_h2_J5',\n",
       "       'mean_NH4_h1_J5', 'mean_NH4_h2_J5', 'mean_NO3_h1_J5', 'mean_NO3_h2_J5',\n",
       "       'N2O_O3', 'N2O_J45', 'N2O_J182', 'Humidite_max_5J', 'Humidite_min_5J',\n",
       "       'Humidite_moyenne_5J', 'Temp_max_5J', 'Temp_min_5J', 'Temp_moyenne_5J',\n",
       "       'Sum_ETP_5J', 'Sum_pluie_5J', 'acs', 'pn', 'bi', 'bio', 'elev', 'ref',\n",
       "       'week', 'month', 'year', '2018', '2019', '2020', '2021', 'Pic_03',\n",
       "       'Pic_J45', 'Pic_J182'],\n",
       "      dtype='object')"
      ]
     },
     "execution_count": 6,
     "metadata": {},
     "output_type": "execute_result"
    }
   ],
   "source": [
    "data.columns"
   ]
  },
  {
   "cell_type": "code",
   "execution_count": 5,
   "metadata": {},
   "outputs": [],
   "source": [
    "data2 = data[[\"N2O\", \"Date\", \"Bande\", \"CP\", \"Peuplement\"\n",
    "            , \"Travail_sol_J90\", \"Ajout_phyto_30J\", \"Ajout_ferti_30J\"\n",
    "            , \"N2O_O3\", \"N2O_J45\", \"N2O_J182\", \"Temp_moyenne_5J\"\n",
    "            , \"Sum_pluie_5J\", \"year\", \"month\"]]"
   ]
  },
  {
   "attachments": {},
   "cell_type": "markdown",
   "metadata": {},
   "source": [
    "### Define Class Categorizer"
   ]
  },
  {
   "cell_type": "code",
   "execution_count": 5,
   "metadata": {},
   "outputs": [],
   "source": [
    "class categorizer :\n",
    "    \"\"\"provide functions to transform a quantitative column to a qualitative column\"\"\"\n",
    "\n",
    "    def __init__(self, df_cible: object) -> None:\n",
    "        self.df = df_cible\n",
    "\n",
    "    def by_quantile(self, df_quantile: object, col_quantile : str, col_cible : str, name_col : str, factor : int = 1) -> object: \n",
    "        \"\"\"\n",
    "        df_quantile : Dataframe we will used for quantile\n",
    "        col_quantile : The column that will be used to estimate the quantiles [0.25, 0.75]\n",
    "        factor : Possibility to multiply the quantiles by a factor (usefull if we compare a daily value to a weekly value)\n",
    "        col_cible : The column that wil be categorized according to the quantiles found\n",
    "        Name_col : Name of the new column\n",
    "        \"\"\"\n",
    "        quantiles = df_quantile[col_quantile].quantile([0.25, 0.75])\n",
    "        self.df[name_col] = np.select(\n",
    "                            [self.df[col_cible] >= (quantiles[0.75] * factor)\n",
    "                            , self.df[col_cible] <= (quantiles[0.25] * factor)\n",
    "                            , (self.df[col_cible] > (quantiles[0.25] * factor)) & (self.df[col_cible] < (quantiles[0.75] * factor))]\n",
    "                            , [\"elevee\",\"basse\",\"moyenne\"])\n",
    "        return (self.df)\n",
    "\n",
    "    def by_values(self, col_cible : str, values_int : list, values_str : list, name_col : str) -> object :\n",
    "        \"\"\"\n",
    "        col_cible : The column that wil be categorized according to the values_int\n",
    "        values_int : List of int used to separate the col_cible\n",
    "        values_str : Names of the categories\n",
    "        Name_col : Name of the new column\n",
    "        \"\"\"\n",
    "        for i in range(len(values_int)):\n",
    "            # print(values_int[i - 1], values_int[i], values_str[i])\n",
    "            self.df.loc[(self.df[col_cible] > values_int[i - 1])\n",
    "                        & (self.df[col_cible] <= values_int[i])\n",
    "                        , name_col] = values_str[i]\n",
    "        return self.df\n",
    "\n",
    "    def compare_cols(self, df_source : object, col_cible : str, col_source : str, col_name : str) -> object :\n",
    "        \"\"\"\n",
    "        df_source : Dataframe use for comparing\n",
    "        col_cible : Name of the column on df_source\n",
    "        col_source : Name of the column we are looking to categorized\n",
    "        col_name : Name of the new column\n",
    "        \"\"\"\n",
    "        self.df[col_name] = self.df[col_cible] > df_source[col_source]\n",
    "        return self.df"
   ]
  },
  {
   "attachments": {},
   "cell_type": "markdown",
   "metadata": {},
   "source": [
    "### Data Transformation"
   ]
  },
  {
   "cell_type": "code",
   "execution_count": 6,
   "metadata": {},
   "outputs": [],
   "source": [
    "cat = categorizer(data2.copy())\n",
    "\n",
    "data2 = cat.by_quantile(meteo_18_21, \"Temp moyenne (°C)\", \"Temp_moyenne_5J\", \"Temp_quali\")\n",
    "data2 = cat.by_quantile(meteo_18_21, \"Pluie (mm)\", \"Sum_pluie_5J\", \"Pluie_quali\", 5)\n",
    "data2 = cat.by_values(\"Sum_pluie_5J\", [1, data2.Sum_pluie_5J.max(),0], ['pas_pluie', 'pluie', 'pas_pluie'], 'Pluie_ON')\n",
    "data2[\"day\"] = data2.Date.dt.day_of_year\n",
    "data2 = cat.by_values(\"day\", [80, 172, 264, 355, 0], ['hiver', 'printemps', 'ete', 'automne','hiver'], \"Saison\")\n",
    "data2.pop(\"day\")\n",
    "data2 = cat.compare_cols(data2, \"N2O\", \"N2O_O3\", \"Pic_O3\")\n",
    "data2 = cat.compare_cols(data2, \"N2O\", \"N2O_J45\", \"Pic_J45\")\n",
    "data2 = cat.compare_cols(data2, \"N2O\", \"N2O_J182\", \"Pic_J182\")"
   ]
  },
  {
   "cell_type": "code",
   "execution_count": 7,
   "metadata": {},
   "outputs": [
    {
     "data": {
      "text/html": [
       "<div>\n",
       "<style scoped>\n",
       "    .dataframe tbody tr th:only-of-type {\n",
       "        vertical-align: middle;\n",
       "    }\n",
       "\n",
       "    .dataframe tbody tr th {\n",
       "        vertical-align: top;\n",
       "    }\n",
       "\n",
       "    .dataframe thead th {\n",
       "        text-align: right;\n",
       "    }\n",
       "</style>\n",
       "<table border=\"1\" class=\"dataframe\">\n",
       "  <thead>\n",
       "    <tr style=\"text-align: right;\">\n",
       "      <th></th>\n",
       "      <th>N2O</th>\n",
       "      <th>Date</th>\n",
       "      <th>Bande</th>\n",
       "      <th>CP</th>\n",
       "      <th>Peuplement</th>\n",
       "      <th>Travail_sol_J90</th>\n",
       "      <th>Ajout_phyto_30J</th>\n",
       "      <th>Ajout_ferti_30J</th>\n",
       "      <th>N2O_O3</th>\n",
       "      <th>N2O_J45</th>\n",
       "      <th>...</th>\n",
       "      <th>Sum_pluie_5J</th>\n",
       "      <th>year</th>\n",
       "      <th>month</th>\n",
       "      <th>Temp_quali</th>\n",
       "      <th>Pluie_quali</th>\n",
       "      <th>Pluie_ON</th>\n",
       "      <th>Saison</th>\n",
       "      <th>Pic_O3</th>\n",
       "      <th>Pic_J45</th>\n",
       "      <th>Pic_J182</th>\n",
       "    </tr>\n",
       "  </thead>\n",
       "  <tbody>\n",
       "    <tr>\n",
       "      <th>0</th>\n",
       "      <td>18.537129</td>\n",
       "      <td>2018-03-14</td>\n",
       "      <td>acs</td>\n",
       "      <td>ble</td>\n",
       "      <td>ble</td>\n",
       "      <td>False</td>\n",
       "      <td>0.0</td>\n",
       "      <td>1.0</td>\n",
       "      <td>11.582333</td>\n",
       "      <td>24.452717</td>\n",
       "      <td>...</td>\n",
       "      <td>28.0</td>\n",
       "      <td>2018</td>\n",
       "      <td>3</td>\n",
       "      <td>moyenne</td>\n",
       "      <td>elevee</td>\n",
       "      <td>pluie</td>\n",
       "      <td>hiver</td>\n",
       "      <td>True</td>\n",
       "      <td>False</td>\n",
       "      <td>True</td>\n",
       "    </tr>\n",
       "    <tr>\n",
       "      <th>1</th>\n",
       "      <td>2.088998</td>\n",
       "      <td>2018-03-14</td>\n",
       "      <td>pn</td>\n",
       "      <td>ble</td>\n",
       "      <td>ble</td>\n",
       "      <td>False</td>\n",
       "      <td>0.0</td>\n",
       "      <td>1.0</td>\n",
       "      <td>2.082846</td>\n",
       "      <td>8.071064</td>\n",
       "      <td>...</td>\n",
       "      <td>28.0</td>\n",
       "      <td>2018</td>\n",
       "      <td>3</td>\n",
       "      <td>moyenne</td>\n",
       "      <td>elevee</td>\n",
       "      <td>pluie</td>\n",
       "      <td>hiver</td>\n",
       "      <td>True</td>\n",
       "      <td>False</td>\n",
       "      <td>False</td>\n",
       "    </tr>\n",
       "    <tr>\n",
       "      <th>2</th>\n",
       "      <td>1.488817</td>\n",
       "      <td>2018-03-14</td>\n",
       "      <td>bi</td>\n",
       "      <td>ble</td>\n",
       "      <td>ble</td>\n",
       "      <td>False</td>\n",
       "      <td>0.0</td>\n",
       "      <td>0.0</td>\n",
       "      <td>1.166688</td>\n",
       "      <td>6.928661</td>\n",
       "      <td>...</td>\n",
       "      <td>28.0</td>\n",
       "      <td>2018</td>\n",
       "      <td>3</td>\n",
       "      <td>moyenne</td>\n",
       "      <td>elevee</td>\n",
       "      <td>pluie</td>\n",
       "      <td>hiver</td>\n",
       "      <td>True</td>\n",
       "      <td>False</td>\n",
       "      <td>False</td>\n",
       "    </tr>\n",
       "    <tr>\n",
       "      <th>3</th>\n",
       "      <td>1.390654</td>\n",
       "      <td>2018-03-14</td>\n",
       "      <td>bio</td>\n",
       "      <td>ble</td>\n",
       "      <td>ble</td>\n",
       "      <td>False</td>\n",
       "      <td>0.0</td>\n",
       "      <td>1.0</td>\n",
       "      <td>2.004849</td>\n",
       "      <td>8.051543</td>\n",
       "      <td>...</td>\n",
       "      <td>28.0</td>\n",
       "      <td>2018</td>\n",
       "      <td>3</td>\n",
       "      <td>moyenne</td>\n",
       "      <td>elevee</td>\n",
       "      <td>pluie</td>\n",
       "      <td>hiver</td>\n",
       "      <td>False</td>\n",
       "      <td>False</td>\n",
       "      <td>False</td>\n",
       "    </tr>\n",
       "    <tr>\n",
       "      <th>4</th>\n",
       "      <td>3.297613</td>\n",
       "      <td>2018-03-14</td>\n",
       "      <td>elev</td>\n",
       "      <td>ble</td>\n",
       "      <td>ble</td>\n",
       "      <td>False</td>\n",
       "      <td>0.0</td>\n",
       "      <td>0.0</td>\n",
       "      <td>2.746295</td>\n",
       "      <td>14.524024</td>\n",
       "      <td>...</td>\n",
       "      <td>28.0</td>\n",
       "      <td>2018</td>\n",
       "      <td>3</td>\n",
       "      <td>moyenne</td>\n",
       "      <td>elevee</td>\n",
       "      <td>pluie</td>\n",
       "      <td>hiver</td>\n",
       "      <td>True</td>\n",
       "      <td>False</td>\n",
       "      <td>False</td>\n",
       "    </tr>\n",
       "  </tbody>\n",
       "</table>\n",
       "<p>5 rows × 22 columns</p>\n",
       "</div>"
      ],
      "text/plain": [
       "         N2O       Date Bande   CP Peuplement  Travail_sol_J90  \\\n",
       "0  18.537129 2018-03-14   acs  ble        ble            False   \n",
       "1   2.088998 2018-03-14    pn  ble        ble            False   \n",
       "2   1.488817 2018-03-14    bi  ble        ble            False   \n",
       "3   1.390654 2018-03-14   bio  ble        ble            False   \n",
       "4   3.297613 2018-03-14  elev  ble        ble            False   \n",
       "\n",
       "   Ajout_phyto_30J  Ajout_ferti_30J     N2O_O3    N2O_J45  ...  Sum_pluie_5J  \\\n",
       "0              0.0              1.0  11.582333  24.452717  ...          28.0   \n",
       "1              0.0              1.0   2.082846   8.071064  ...          28.0   \n",
       "2              0.0              0.0   1.166688   6.928661  ...          28.0   \n",
       "3              0.0              1.0   2.004849   8.051543  ...          28.0   \n",
       "4              0.0              0.0   2.746295  14.524024  ...          28.0   \n",
       "\n",
       "   year  month  Temp_quali  Pluie_quali Pluie_ON Saison Pic_O3 Pic_J45  \\\n",
       "0  2018      3     moyenne       elevee    pluie  hiver   True   False   \n",
       "1  2018      3     moyenne       elevee    pluie  hiver   True   False   \n",
       "2  2018      3     moyenne       elevee    pluie  hiver   True   False   \n",
       "3  2018      3     moyenne       elevee    pluie  hiver  False   False   \n",
       "4  2018      3     moyenne       elevee    pluie  hiver   True   False   \n",
       "\n",
       "   Pic_J182  \n",
       "0      True  \n",
       "1     False  \n",
       "2     False  \n",
       "3     False  \n",
       "4     False  \n",
       "\n",
       "[5 rows x 22 columns]"
      ]
     },
     "execution_count": 7,
     "metadata": {},
     "output_type": "execute_result"
    }
   ],
   "source": [
    "data2.head()"
   ]
  },
  {
   "cell_type": "code",
   "execution_count": 8,
   "metadata": {},
   "outputs": [],
   "source": [
    "# data3 = data2.iloc[:,15:]"
   ]
  },
  {
   "attachments": {},
   "cell_type": "markdown",
   "metadata": {},
   "source": [
    "### Export data"
   ]
  },
  {
   "cell_type": "code",
   "execution_count": 9,
   "metadata": {},
   "outputs": [],
   "source": [
    "data2.to_csv(\"../data_pretraitee/data_categorielle.csv\", sep=\";\")"
   ]
  }
 ],
 "metadata": {
  "interpreter": {
   "hash": "6a5541ed1b3d64483838366045b66d4d77af5e8cc5a3b588e484addbf01e0851"
  },
  "kernelspec": {
   "display_name": "Python 3.10.6 ('base')",
   "language": "python",
   "name": "python3"
  },
  "language_info": {
   "codemirror_mode": {
    "name": "ipython",
    "version": 3
   },
   "file_extension": ".py",
   "mimetype": "text/x-python",
   "name": "python",
   "nbconvert_exporter": "python",
   "pygments_lexer": "ipython3",
   "version": "3.10.6"
  },
  "orig_nbformat": 4,
  "vscode": {
   "interpreter": {
    "hash": "bc5a6fcd42aefd11aead72b01bc4e6842c205ebb69c94514e1be95f4dbf05863"
   }
  }
 },
 "nbformat": 4,
 "nbformat_minor": 2
}
